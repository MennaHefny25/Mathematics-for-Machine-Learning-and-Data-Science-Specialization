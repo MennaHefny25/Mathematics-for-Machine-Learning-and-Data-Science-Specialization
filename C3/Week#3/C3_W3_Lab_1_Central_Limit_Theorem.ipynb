{
 "cells": [
  {
   "cell_type": "markdown",
   "id": "bb5afc1a",
   "metadata": {},
   "source": [
    "# Lab: Central Limit Theorem\n",
    "\n",
    "Welcome! In this ungraded lab see applications of the Central Limit Theorem when working with different distributions of data. You will see how to see the theorem in action, as well as scenarios in which the theorem doesn't hold.\n",
    "\n",
    "Let's get started!"
   ]
  },
  {
   "cell_type": "code",
   "execution_count": 1,
   "id": "dff173ef",
   "metadata": {},
   "outputs": [],
   "source": [
    "import numpy as np\n",
    "import pandas as pd\n",
    "import seaborn as sns\n",
    "import matplotlib.pyplot as plt\n",
    "from scipy import stats\n",
    "from scipy.stats import norm\n",
    "\n",
    "import utils"
   ]
  },
  {
   "cell_type": "markdown",
   "id": "c4298763",
   "metadata": {},
   "source": [
    "## Gaussian population\n",
    "\n",
    "Begin with the most straightforward scenario: when your population follows a Gaussian distribution. You will generate the data for this population by using the [np.random.normal](https://numpy.org/doc/stable/reference/random/generated/numpy.random.normal.html) function. "
   ]
  },
  {
   "cell_type": "code",
   "execution_count": 2,
   "id": "db0e6232",
   "metadata": {},
   "outputs": [],
   "source": [
    "mu = 10\n",
    "sigma = 5\n",
    "\n",
    "gaussian_population = np.random.normal(mu, sigma, 100_000)"
   ]
  },
  {
   "cell_type": "markdown",
   "id": "2bafe463",
   "metadata": {},
   "source": [
    "The population has a mean of 10 and a standard deviation of 5 (since these are the true parameters you used to generate the data) and a total of 100'000 observations. You can visualize its histogram by running the next cell:"
   ]
  },
  {
   "cell_type": "code",
   "execution_count": 3,
   "id": "aa13b407",
   "metadata": {},
   "outputs": [
    {
     "data": {
      "image/png": "[encoded data removed]",
      "text/plain": [
       "<Figure size 640x480 with 1 Axes>"
      ]
     },
     "metadata": {},
     "output_type": "display_data"
    }
   ],
   "source": [
    "sns.histplot(gaussian_population, stat=\"density\")\n",
    "plt.show()"
   ]
  },
  {
   "cell_type": "markdown",
   "id": "7dffb432",
   "metadata": {},
   "source": [
    "## Sampling from the population\n",
    "\n",
    "Since this lab uses simulated data you could very easily use the whole population to draw conclusions from the data. For instance if you didn't know about the values of $\\mu$ and $\\sigma$ you could get very close estimates of the true values by computing the mean and standard deviation of the whole population like so:"
   ]
  },
  {
   "cell_type": "code",
   "execution_count": 5,
   "id": "d77f1985",
   "metadata": {},
   "outputs": [],
   "source": [
    "gaussian_pop_mean = np.mean(gaussian_population)\n",
    "gaussian_pop_std = np.std(gaussian_population)\n",
    "\n",
    "print(f\"Gaussian population has mean: {gaussian_pop_mean:.1f} and std: {gaussian_pop_std:.1f}\")"
   ]
  },
  {
   "cell_type": "markdown",
   "id": "774ec0e3",
   "metadata": {},
   "source": [
    "However in real life this will most certainly not be possible and you will need to use samples that are nowhere near as big as the population to draw conclusions of the behaviour of the data.  After all, this is what statistics is all about.\n",
    "\n",
    "Depending on the sampling techniques you could encounter different properties, this is where the Central Limit Theorem comes in handy. For many distributions (**but not all**) the following is true:\n",
    "\n",
    "The sum or average of a large number of independent and identically distributed random variables tends to follow a normal distribution, regardless of the distribution of the individual variables themselves. This is important because the normal distribution is well-understood and allows for statistical inference and hypothesis testing.\n",
    "\n",
    "With this in mind you need a way of averaging samples out of your population. For this the `sample_means` is defined:"
   ]
  },
  {
   "cell_type": "code",
   "execution_count": 7,
   "id": "996fd8ef",
   "metadata": {},
   "outputs": [],
   "source": [
    "def sample_means(data, sample_size):\n",
    "    # Save all the means in a list\n",
    "    means = []\n",
    "\n",
    "    # For a big number of samples\n",
    "    # This value does not impact the theorem but how nicely the histograms will look (more samples = better looking)\n",
    "    for _ in range(10_000):\n",
    "        # Get a sample of the data WITH replacement\n",
    "        sample = np.random.choice(data, size=sample_size)\n",
    "\n",
    "        # Save the mean of the sample\n",
    "        means.append(np.mean(sample))\n",
    "\n",
    "    # Return the means within a numpy array\n",
    "    return np.array(means)"
   ]
  },
  {
   "cell_type": "markdown",
   "id": "19fec648",
   "metadata": {},
   "source": [
    "Let's break down the function above:\n",
    "\n",
    "- You take random samples out of the population (the sampling is done with replacement, which means that once you select an element you put it back in the sampling space so you could choose a particular element more than once). This ensures that the independence condition is met.\n",
    "\n",
    "- Compute the mean of each sample\n",
    "\n",
    "- Save the means of each sample in a numpy array\n",
    "\n",
    "The theorem states that if a large enough `sample_size` is used (usually bigger than 30) then the distribution of the sample means should be Gaussian. See it in action by running the next cell:"
   ]
  },
  {
   "cell_type": "code",
   "execution_count": 8,
   "id": "07799fb7",
   "metadata": {},
   "outputs": [],
   "source": [
    "# Compute the sample means\n",
    "gaussian_sample_means = sample_means(gaussian_population, sample_size=5)\n",
    "\n",
    "# Plot a histogram of the sample means\n",
    "sns.histplot(gaussian_sample_means, stat=\"density\")\n",
    "plt.show()"
   ]
  },
  {
   "cell_type": "markdown",
   "id": "e0f7829f",
   "metadata": {},
   "source": [
    "The distribution of the sample means looks pretty Gaussian. However this is not good enough to determine if the theorem holds, after all you used a very small `sample_size` in this example. There are various ways to check if the sample means do follow a Gaussian distribution.\n",
    "\n",
    "The first one is to compute the theoretical $\\mu$ and $\\sigma$ of the sample means which will be denoted with the symbols $\\mu_{\\bar{X}}$ and $\\sigma_{\\bar{X}}$ respectively. These values can be computed as follows:\n",
    "\n",
    "- $\\mu_{\\bar{X}} = \\mu$\n",
    "\n",
    "\n",
    "- $\\sigma_{\\bar{X}} = \\frac{\\sigma}{\\sqrt{n}}$\n",
    "\n",
    "**Note: In this case $n$ is the size of the sample.**\n",
    "\n",
    "And then use these values to plot a Gaussian curve with parameters $\\mu_{\\bar{X}}$ and $\\sigma_{\\bar{X}}$. If the theorem holds then the resulting distribution of the sample means should resemble this Gaussian curve. Run the next cell to include this into the plot:"
   ]
  },
  {
   "cell_type": "code",
   "execution_count": 9,
   "id": "fa1b3ff2",
   "metadata": {},
   "outputs": [],
   "source": [
    "# Compute estimated mu\n",
    "mu_sample_means = mu\n",
    "\n",
    "# Compute estimated sigma\n",
    "# 5 is being used because you used a sample size of 5\n",
    "sigma_sample_means = sigma / np.sqrt(5)\n",
    "\n",
    "# Define the x-range for the Gaussian curve (this is just for plotting purposes)\n",
    "x_range = np.linspace(min(gaussian_sample_means), max(gaussian_sample_means), 100)\n",
    "\n",
    "# Plot everything together\n",
    "sns.histplot(gaussian_sample_means, stat=\"density\")\n",
    "plt.plot(\n",
    "    x_range,\n",
    "    norm.pdf(x_range, loc=mu_sample_means, scale=sigma_sample_means),\n",
    "    color=\"black\",\n",
    ")\n",
    "plt.show()"
   ]
  },
  {
   "cell_type": "markdown",
   "id": "9e33c158",
   "metadata": {},
   "source": [
    "They look pretty similar. However you can go one step further and plot a smooth function that attempts to estimate the probability density function of the sample means through a method known as `kernel density estimation`. If this smooth function resembles the Gaussian function then you know that the distribution of the sample means is very similar to a Gaussian:"
   ]
  },
  {
   "cell_type": "code",
   "execution_count": 10,
   "id": "a315905d",
   "metadata": {},
   "outputs": [],
   "source": [
    "# Histogram of sample means (blue)\n",
    "sns.histplot(gaussian_sample_means, stat=\"density\", label=\"hist\")\n",
    "\n",
    "# Estimated PDF of sample means (red)\n",
    "sns.kdeplot(\n",
    "    data=gaussian_sample_means,\n",
    "    color=\"crimson\",\n",
    "    label=\"kde\",\n",
    "    linestyle=\"dashed\",\n",
    "    fill=True,\n",
    ")\n",
    "\n",
    "# Gaussian curve with estimated mu and sigma (black)\n",
    "plt.plot(\n",
    "    x_range,\n",
    "    norm.pdf(x_range, loc=mu_sample_means, scale=sigma_sample_means),\n",
    "    color=\"black\",\n",
    "    label=\"gaussian\",\n",
    ")\n",
    "\n",
    "plt.legend()\n",
    "plt.show()"
   ]
  },
  {
   "cell_type": "markdown",
   "id": "9564547c",
   "metadata": {},
   "source": [
    "Both curves look almost identical!\n",
    "\n",
    "Another way of checking for normality is to perform a QQ plot of the sample means. The points in this plot should resemble a straight line if the distribution of the data is Gaussian:"
   ]
  },
  {
   "cell_type": "code",
   "execution_count": 11,
   "id": "62f22356",
   "metadata": {},
   "outputs": [],
   "source": [
    "# Create the QQ plot\n",
    "fig, ax = plt.subplots(figsize=(6, 6))\n",
    "res = stats.probplot(gaussian_sample_means, plot=ax, fit=True)\n",
    "plt.show()"
   ]
  },
  {
   "cell_type": "markdown",
   "id": "8a195c31",
   "metadata": {},
   "source": [
    "The resulting QQ plot yields an almost perfect straight line which further confirms that the sample means do follow a Gaussian distribution.\n",
    "\n",
    "Now, put everything together in an interactive widget to experiment with different values for $\\mu$, $\\sigma$ and `sample_size`. **To update the plots you will need to click the `Run Interact` button after changing the parameters**:"
   ]
  },
  {
   "cell_type": "code",
   "execution_count": 12,
   "id": "b0f89d4d",
   "metadata": {},
   "outputs": [],
   "source": [
    "utils.gaussian_clt()"
   ]
  },
  {
   "cell_type": "markdown",
   "id": "3a77283f",
   "metadata": {},
   "source": [
    "Even with very small values for `sample_size` the sample means follow a Gaussian distribution. This is actually one of the properties of the Gaussian distribution.\n",
    "\n",
    "Now test the theorem with other distributions!"
   ]
  },
  {
   "cell_type": "markdown",
   "id": "dfa5768e",
   "metadata": {},
   "source": [
    "## Binomial Population\n",
    "\n",
    "Now try with a population distribution that is not Gaussian. One such distribution is the Binomial distribution which you already saw covered in the lectures. To generate data that follows this distribution you will need to define values for the parameters of `n` and `p`:"
   ]
  },
  {
   "cell_type": "code",
   "execution_count": 13,
   "id": "ef8c99cb",
   "metadata": {},
   "outputs": [],
   "source": [
    "n = 5\n",
    "p = 0.8\n",
    "\n",
    "binomial_population = np.random.binomial(n, p, 100_000)"
   ]
  },
  {
   "cell_type": "markdown",
   "id": "5c733da4",
   "metadata": {},
   "source": [
    "The population has a total of 100'000 observations. You can visualize its histogram by running the next cell:"
   ]
  },
  {
   "cell_type": "code",
   "execution_count": 14,
   "id": "7124a3db",
   "metadata": {},
   "outputs": [],
   "source": [
    "sns.histplot(binomial_population, stat=\"count\")\n",
    "plt.show()"
   ]
  },
  {
   "cell_type": "markdown",
   "id": "1935bef1",
   "metadata": {},
   "source": [
    "The mean and standard deviation is not as straightforward as in the Gaussian case (since these parameters were needed to generate the data in that case). However you can easily compute those values by drawing them directly from the population:"
   ]
  },
  {
   "cell_type": "code",
   "execution_count": 15,
   "id": "35e417f8",
   "metadata": {},
   "outputs": [],
   "source": [
    "binomial_pop_mean = np.mean(binomial_population)\n",
    "binomial_pop_std = np.std(binomial_population)\n",
    "\n",
    "print(f\"Gaussian population has mean: {binomial_pop_mean:.1f} and std: {binomial_pop_std:.1f}\")"
   ]
  },
  {
   "cell_type": "markdown",
   "id": "c515c113",
   "metadata": {},
   "source": [
    "Once again, in real life you will not have access to the whole population so you need another method to compute this values. Actually the mean and standard deviation of binomal distributions are well defined and can be computed by using the following formulas:\n",
    "\n",
    "- $\\mu = np$\n",
    "\n",
    "\n",
    "- $\\sigma = \\sqrt{np(1-p)}$"
   ]
  },
  {
   "cell_type": "code",
   "execution_count": 16,
   "id": "bfeb5534",
   "metadata": {},
   "outputs": [],
   "source": [
    "binomial_pop_mean = n * p\n",
    "binomial_pop_std = np.sqrt(n * p * (1 - p))\n",
    "\n",
    "print(f\"Gaussian population has mean: {binomial_pop_mean:.1f} and std: {binomial_pop_std:.1f}\")"
   ]
  },
  {
   "cell_type": "markdown",
   "id": "36ec734e",
   "metadata": {},
   "source": [
    "Now you have found these same values but without needing to sample the whole population. Nice!\n",
    "\n",
    "Before seeing the theorem for this case, you should know that there is a rule of thumb to know if the theorem will hold or not for the Binomial distribution case. This condition is the following:\n",
    "\n",
    "if $min(Np, N(1-p)) >= 5$ then CLT holds\n",
    "\n",
    "where $N = n*sample\\_size$\n",
    "\n",
    "However, it is important to note that this rule is only a rough guideline, and other factors such as the presence of outliers and the purpose of the analysis should also be taken into consideration when choosing an appropriate statistical method.\n",
    "\n",
    "Now check the theorem in action. Begin by using a small `sample_size`:"
   ]
  },
  {
   "cell_type": "code",
   "execution_count": 17,
   "id": "5aca48fd",
   "metadata": {},
   "outputs": [],
   "source": [
    "sample_size = 3\n",
    "N = n * sample_size\n",
    "\n",
    "condition_value = np.min([N * p, N * (1 - p)])\n",
    "print(f\"The condition value is: {int(condition_value*10)/10:.1f}. CLT should hold?: {True if condition_value >= 5 else False}\")"
   ]
  },
  {
   "cell_type": "markdown",
   "id": "f446cc20",
   "metadata": {},
   "source": [
    "Perform the sampling and compute the theoretical values for the mean and standard deviation of the sample means. Remember these latter two can be computed like so:\n",
    "\n",
    "- $\\mu_{\\bar{X}} = \\mu$\n",
    "\n",
    "\n",
    "- $\\sigma_{\\bar{X}} = \\frac{\\sigma}{\\sqrt{sample\\_size}}$"
   ]
  },
  {
   "cell_type": "code",
   "execution_count": 18,
   "id": "43fbbd16",
   "metadata": {},
   "outputs": [],
   "source": [
    "# Compute sample means\n",
    "binomial_sample_means = sample_means(binomial_population, sample_size=sample_size)\n",
    "\n",
    "# Compute estimated mu\n",
    "mu_sample_means = n * p\n",
    "\n",
    "# Compute estimated sigma\n",
    "sigma_sample_means = np.sqrt(n * p * (1 - p)) / np.sqrt(sample_size)"
   ]
  },
  {
   "cell_type": "markdown",
   "id": "26c71c78",
   "metadata": {},
   "source": [
    "Visualize the KDE vs Gaussian curve plot and the QQ plot to see how well the theorem is holding:"
   ]
  },
  {
   "cell_type": "code",
   "execution_count": 19,
   "id": "ced8cb91",
   "metadata": {},
   "outputs": [],
   "source": [
    "# Create the plots\n",
    "utils.plot_kde_and_qq(binomial_sample_means, mu_sample_means, sigma_sample_means)"
   ]
  },
  {
   "cell_type": "markdown",
   "id": "e292d0cc",
   "metadata": {},
   "source": [
    "This doesn't look as good as with the Gaussian example. It looks that by using a small `sample_size` the sample means do not follow a Gaussian distribution.\n",
    "\n",
    "Try again but now increasing the size of each sample:"
   ]
  },
  {
   "cell_type": "code",
   "execution_count": 20,
   "id": "a15d5126",
   "metadata": {},
   "outputs": [],
   "source": [
    "sample_size = 30\n",
    "N = n * sample_size\n",
    "\n",
    "condition_value = np.min([N * p, N * (1 - p)])\n",
    "print(f\"The condition value is: {int(condition_value*10)/10:.1f}. CLT should hold?: {True if condition_value >= 5 else False}\")"
   ]
  },
  {
   "cell_type": "markdown",
   "id": "055109cb",
   "metadata": {},
   "source": [
    "According to the rule of thumb, the theorem should hold under these conditions. Run the next cell to check if this is true:"
   ]
  },
  {
   "cell_type": "code",
   "execution_count": 21,
   "id": "8b81b942",
   "metadata": {},
   "outputs": [],
   "source": [
    "binomial_sample_means = sample_means(binomial_population, sample_size=sample_size)\n",
    "\n",
    "# Compute estimated mu\n",
    "mu_sample_means = n * p\n",
    "\n",
    "# Compute estimated sigma\n",
    "sigma_sample_means = np.sqrt(n * p * (1 - p)) / np.sqrt(sample_size)\n",
    "\n",
    "# Create the plots\n",
    "utils.plot_kde_and_qq(binomial_sample_means, mu_sample_means, sigma_sample_means)"
   ]
  },
  {
   "cell_type": "markdown",
   "id": "2a86335a",
   "metadata": {},
   "source": [
    "This time everything seems to indicate that the theorem is holding nicely!\n",
    "\n",
    "As with the previous distribution, by running the next cell you will launch an interactive widget in which you can play around with different values of $n$, $p$ and $sample\\_size$. \n",
    "\n",
    "See if you can find anything interesting, for instance does the theorem seem to hold better when $p$ is close to 0.5?"
   ]
  },
  {
   "cell_type": "code",
   "execution_count": 22,
   "id": "c292889c",
   "metadata": {},
   "outputs": [],
   "source": [
    "utils.binomial_clt()"
   ]
  },
  {
   "cell_type": "markdown",
   "id": "94932c33",
   "metadata": {},
   "source": [
    "Keep on going with another distribution!"
   ]
  },
  {
   "cell_type": "markdown",
   "id": "bebe0789",
   "metadata": {},
   "source": [
    "## Poisson Population\n",
    "\n",
    "Another popular distribution you might have heard of is the `poisson` distribution. It models the number of events occurring in a fixed interval of time or space, given the average rate of occurrence $\\mu$ of those events.\n",
    "\n",
    "Since you are already familiar with the process of checking the theorem for a distribution you will skip all intermediate steps and jump straight to playing with the interactive widget.\n",
    "\n",
    "The only thing to consider here is that the mean and standard deviation of this distribution can be computed like this:\n",
    "\n",
    "- $\\mu = \\mu$\n",
    "\n",
    "\n",
    "- $\\sigma = \\sqrt{\\mu}$"
   ]
  },
  {
   "cell_type": "code",
   "execution_count": 23,
   "id": "ec6cf35c",
   "metadata": {},
   "outputs": [],
   "source": [
    "utils.poisson_clt()"
   ]
  },
  {
   "cell_type": "markdown",
   "id": "5ccdb748",
   "metadata": {},
   "source": [
    "As expected, you should see that the bigger the `sample_size` the more closely the distribution of the sample means follows a Gaussian distribution."
   ]
  },
  {
   "cell_type": "markdown",
   "id": "6152877c",
   "metadata": {},
   "source": [
    "## Cauchy Distributions\n",
    "\n",
    "The Cauchy distribution is not as well-known as the other ones seen throughout this lab. It has heavy tails, which means that the probability of observing extreme values is higher than in other distributions with similar spread. It also does not have a well-defined mean or variance, which makes it less suitable for many statistical applications.\n",
    "\n",
    "As a result of the properties of this distribution, the central limit theorem does not hold. Run the next cell to generate a population of 1000 points that distribute Cauchy:"
   ]
  },
  {
   "cell_type": "code",
   "execution_count": 24,
   "id": "6b3b4880",
   "metadata": {},
   "outputs": [],
   "source": [
    "cauchy_population = np.random.standard_cauchy(1000)"
   ]
  },
  {
   "cell_type": "markdown",
   "id": "493653bc",
   "metadata": {},
   "source": [
    "Now take a look at the histogram of this population:"
   ]
  },
  {
   "cell_type": "code",
   "execution_count": 25,
   "id": "fd66119d",
   "metadata": {},
   "outputs": [],
   "source": [
    "sns.histplot(cauchy_population, stat=\"density\", label=\"hist\")\n",
    "plt.show()"
   ]
  },
  {
   "cell_type": "markdown",
   "id": "7818e127",
   "metadata": {},
   "source": [
    "It is very difficult to even see the histogram due to the extreme values it has. Now compute the sample means with a `sample_size` of 30, which is usually a safe bet for the theorem to hold under other distributions:"
   ]
  },
  {
   "cell_type": "code",
   "execution_count": 26,
   "id": "b58257ca",
   "metadata": {},
   "outputs": [],
   "source": [
    "cauchy_sample_means = sample_means(cauchy_population, sample_size=30)"
   ]
  },
  {
   "cell_type": "markdown",
   "id": "d5477a70",
   "metadata": {},
   "source": [
    "Since this distribution has an undefined mean and standard deviation and the histogram is very hard to interpret you will only create the QQ plot for the sample means:"
   ]
  },
  {
   "cell_type": "code",
   "execution_count": 27,
   "id": "ee14767a",
   "metadata": {},
   "outputs": [],
   "source": [
    "# Create the QQ plot\n",
    "fig, ax = plt.subplots(figsize=(6, 6))\n",
    "res = stats.probplot(cauchy_sample_means, plot=ax, fit=True)\n",
    "plt.show()"
   ]
  },
  {
   "cell_type": "markdown",
   "id": "02976c76",
   "metadata": {},
   "source": [
    "As you can see, this is very different from a straight line which let's you know that the sample means do not distribute normally. But what if you used a much bigger `sample_size`?"
   ]
  },
  {
   "cell_type": "code",
   "execution_count": 28,
   "id": "87f1b975",
   "metadata": {},
   "outputs": [],
   "source": [
    "cauchy_sample_means = sample_means(cauchy_population, sample_size=100)\n",
    "\n",
    "# Create the QQ plot\n",
    "fig, ax = plt.subplots(figsize=(6, 6))\n",
    "res = stats.probplot(cauchy_sample_means, plot=ax, fit=True)\n",
    "plt.show()"
   ]
  },
  {
   "cell_type": "markdown",
   "id": "c1ebed71",
   "metadata": {},
   "source": [
    "Even when using a `sample_size` of 100, which might be unrealistic in real-life scenarios you still don't achieve normality for the sample means. This is important because it is a fact that the central limit theorem does not hold for all distributions and that is a limitation to consider when applying it."
   ]
  },
  {
   "cell_type": "markdown",
   "id": "930df17b",
   "metadata": {},
   "source": [
    "**Congratulations on finishing this lab!**"
   ]
  }
 ],
 "metadata": {
  "kernelspec": {
   "display_name": "Python 3 (ipykernel)",
   "language": "python",
   "name": "python3"
  },
  "language_info": {
   "codemirror_mode": {
    "name": "ipython",
    "version": 3
   },
   "file_extension": ".py",
   "mimetype": "text/x-python",
   "name": "python",
   "nbconvert_exporter": "python",
   "pygments_lexer": "ipython3",
   "version": "3.10.9"
  }
 },
 "nbformat": 4,
 "nbformat_minor": 5
}
